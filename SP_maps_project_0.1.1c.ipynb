{
 "cells": [
  {
   "cell_type": "markdown",
   "metadata": {},
   "source": [
    "# São Paulo map project ver 0.1.1\n",
    "_by Gabriel P. Oliveira | 2020.08_\n",
    "\n",
    "Including Population, Population density, Metro stations and PLWDMS (People living at walking distance from metro stations)"
   ]
  },
  {
   "cell_type": "markdown",
   "metadata": {},
   "source": [
    "## 1. Purpose\n",
    "The main purpose of this project is to provide a good visualization of demographic data of São Paulo city distributed over its districts. Additionally the distribution of Metro stations by districts is also provided along with an estimation of the population living at walking distance from Metro stations (here called PLWDMS)."
   ]
  },
  {
   "cell_type": "code",
   "execution_count": null,
   "metadata": {},
   "outputs": [],
   "source": [
    "## estruturar texto\n",
    "## premissas\n",
    "## fontes"
   ]
  },
  {
   "cell_type": "markdown",
   "metadata": {},
   "source": [
    "## 4. Analysis"
   ]
  },
  {
   "cell_type": "code",
   "execution_count": null,
   "metadata": {},
   "outputs": [],
   "source": [
    "#clear all variables\n",
    "%reset -f"
   ]
  },
  {
   "cell_type": "code",
   "execution_count": null,
   "metadata": {},
   "outputs": [],
   "source": [
    "##might be necessary for proper installation of packages below\n",
    "!conda update --all --yes"
   ]
  },
  {
   "cell_type": "markdown",
   "metadata": {},
   "source": [
    "### 4.1 Installation and import of required packages"
   ]
  },
  {
   "cell_type": "code",
   "execution_count": null,
   "metadata": {},
   "outputs": [],
   "source": [
    "import numpy as np\n",
    "import pandas as pd\n",
    "import timeit\n",
    "\n",
    "import sys\n",
    "!{sys.executable} -m pip install pygeos\n",
    "import pygeos\n",
    "\n",
    "#!conda install -c conda-forge libspatialindex=1.9.3 --yes\n",
    "#!conda install -c conda-forge rtree=0.9.4 --yes\n",
    "#import rtree\n",
    "\n",
    "!{sys.executable} -m pip install geopandas\n",
    "import geopandas as gpd\n",
    "\n",
    "#!{sys.prefix} -m pip install folium\n",
    "!conda install -c conda-forge folium=0.11.0 --yes\n",
    "import folium\n",
    "from folium import plugins\n",
    "from folium.features import CustomIcon\n",
    "\n",
    "import pyproj\n",
    "import fiona\n",
    "import fiona.crs\n",
    "\n",
    "from shapely.geometry import Polygon, Point\n",
    "from shapely.ops import unary_union, cascaded_union, transform\n",
    "\n",
    "import branca\n",
    "from branca.element import MacroElement\n",
    "from jinja2 import Template\n",
    "\n",
    "from functools import partial\n",
    "\n",
    "# use the inline backend to generate the plots within the browser\n",
    "%matplotlib inline \n",
    "\n",
    "import matplotlib as mpl\n",
    "import matplotlib.pyplot as plt\n",
    "\n",
    "import math\n",
    "\n",
    "import os"
   ]
  },
  {
   "cell_type": "markdown",
   "metadata": {},
   "source": [
    "### 4.2 Collecting required data"
   ]
  },
  {
   "cell_type": "markdown",
   "metadata": {},
   "source": [
    "Read GeoJson file (taken from http://datageo.ambiente.sp.gov.br/geoportal/catalog/search/resource/details.page?uuid=%7B10787319-DEDC-42F7-BB0A-36CA918C4B82%7D and converted on https://ogre.adc4gis.com/) and saving it into a Geopandas dataframe"
   ]
  },
  {
   "cell_type": "code",
   "execution_count": null,
   "metadata": {},
   "outputs": [],
   "source": [
    "sp_gpd = gpd.read_file(\"../MyProjects/distritos_sp_v2.json\")\n",
    "sp_gpd.sort_values(by=['Nome'],inplace=True)\n",
    "sp_gpd.reset_index(inplace=True)\n",
    "sp_gpd.drop(columns=['index', 'Codigo'], inplace=True)\n",
    "sp_gpd.head()"
   ]
  },
  {
   "cell_type": "markdown",
   "metadata": {},
   "source": [
    "Read population data from São Paulo in CSV and saved it to Dataframe (taken fromhttps://www.prefeitura.sp.gov.br/cidade/secretarias/urbanismo/dados_estatisticos/info_cidade/demografia/index.php?p=260265) and sorting it by population "
   ]
  },
  {
   "cell_type": "code",
   "execution_count": null,
   "metadata": {},
   "outputs": [],
   "source": [
    "sp_pop = pd.read_csv('../MyProjects/sp_population.csv',';',header=None,index_col=False)\n",
    "sp_pop.rename(columns={0:'District', 1:'Population',2:'Density'}, inplace=True)\n",
    "sp_pop.sort_values(by=['District'],inplace=True)\n",
    "sp_pop.head()"
   ]
  },
  {
   "cell_type": "markdown",
   "metadata": {},
   "source": [
    "Reading CSV of Metro stations in SP, renaming columns and droping duplicates (same stations in different Metro lines)"
   ]
  },
  {
   "cell_type": "code",
   "execution_count": null,
   "metadata": {},
   "outputs": [],
   "source": [
    "sp_metro_stat = pd.read_csv('../MyProjects/sp_metro_stat2.csv',';',header=None,index_col=False)\n",
    "sp_metro_stat.rename(columns={0:'Alias', 1:'Station name',2:'Line',3:'Longitude',4:'Latitude'}, inplace=True)\n",
    "sp_metro_stat.drop_duplicates(subset='Station name',inplace=True,ignore_index=True)\n",
    "sp_metro_stat.head()"
   ]
  },
  {
   "cell_type": "markdown",
   "metadata": {},
   "source": [
    "### 4.3 Treating data"
   ]
  },
  {
   "cell_type": "markdown",
   "metadata": {},
   "source": [
    "Merging population data with Geopandas data frame"
   ]
  },
  {
   "cell_type": "code",
   "execution_count": null,
   "metadata": {},
   "outputs": [],
   "source": [
    "sp_cpl=sp_gpd.merge(sp_pop, left_on='Nome', right_on='District', how='left')"
   ]
  },
  {
   "cell_type": "markdown",
   "metadata": {},
   "source": [
    "Adding string columns for latter Tooltips in the map"
   ]
  },
  {
   "cell_type": "code",
   "execution_count": null,
   "metadata": {},
   "outputs": [],
   "source": [
    "sp_cpl['Pop str']=list(map(str, sp_cpl['Population']))\n",
    "sp_cpl['Dens str']=list(map(str, sp_cpl['Density']))\n",
    "sp_cpl.head()"
   ]
  },
  {
   "cell_type": "markdown",
   "metadata": {},
   "source": [
    "Locating Metro stations into the districts and counting"
   ]
  },
  {
   "cell_type": "code",
   "execution_count": null,
   "metadata": {},
   "outputs": [],
   "source": [
    "#creating points geometry from Latitude and Longitude data\n",
    "sp_metro_stat_gpd=gpd.GeoDataFrame(sp_metro_stat,geometry=gpd.points_from_xy(sp_metro_stat.Longitude,\n",
    "                                                                             sp_metro_stat.Latitude))\n",
    "#locating both geometries (districts and stations) into the same projection CRS\n",
    "sp_cpl.crs=fiona.crs.from_epsg(4326)\n",
    "sp_metro_stat_gpd.crs=fiona.crs.from_epsg(4326)\n",
    "#locating \n",
    "sjoined_sp_metro_stat = gpd.sjoin(sp_metro_stat_gpd, sp_cpl, op='within')\n",
    "#counting\n",
    "sp_metro_stat_grouped = sjoined_sp_metro_stat.groupby('Nome').size()\n",
    "sp_mstat_grouped_df = sp_metro_stat_grouped.to_frame().reset_index()\n",
    "sp_mstat_grouped_df.columns = ['Distrito','Metro stations']\n",
    "sp_mstat_grouped_df.head()"
   ]
  },
  {
   "cell_type": "markdown",
   "metadata": {},
   "source": [
    "Merging Metro stations number into the complete dataframe and adding a string column for Tooltip on map"
   ]
  },
  {
   "cell_type": "code",
   "execution_count": null,
   "metadata": {},
   "outputs": [],
   "source": [
    "sp_cpl=sp_cpl.merge(sp_mstat_grouped_df, left_on='Nome', right_on='Distrito', how='left')\n",
    "sp_cpl.drop(columns=['District','Distrito'],inplace=True)\n",
    "sp_cpl['Metro stations'].fillna(0,inplace=True)\n",
    "sp_cpl['Metro stations']=sp_cpl['Metro stations'].astype('int64')\n",
    "sp_cpl['M stat str']=list(map(str, sp_cpl['Metro stations']))"
   ]
  },
  {
   "cell_type": "markdown",
   "metadata": {},
   "source": [
    "Calculating the total Population and total number of Metro stations"
   ]
  },
  {
   "cell_type": "code",
   "execution_count": null,
   "metadata": {},
   "outputs": [],
   "source": [
    "total_pop=sp_cpl['Population'].sum()\n",
    "total_metro_stat=sp_cpl['Metro stations'].sum()\n",
    "print('The total population is',total_pop,'ppl.')\n",
    "print('The total number of metro stations is',total_metro_stat,'stations')"
   ]
  },
  {
   "cell_type": "markdown",
   "metadata": {},
   "source": [
    "#### 4.3.1 Estimation of number of people living at walking distance (PLWDMS) from metro stations"
   ]
  },
  {
   "cell_type": "markdown",
   "metadata": {},
   "source": [
    "Calculating the areas from the Districts geometries (GeoJson file) and the areas from the official data (District Population divided by the Pop. Density)"
   ]
  },
  {
   "cell_type": "code",
   "execution_count": null,
   "metadata": {},
   "outputs": [],
   "source": [
    "areas_geojson=sp_gpd['geometry'].to_crs('EPSG:32723').map(lambda p: p.area / 1000000)\n",
    "#EPSG 31983 and 29193 were also tested and provided the same result\n",
    "areas_database=sp_cpl['Population'].div(sp_cpl['Density'],axis=0)"
   ]
  },
  {
   "cell_type": "markdown",
   "metadata": {},
   "source": [
    "This website was used as reference to choose the Projections http://processamentodigital.com.br/2013/07/27/lista-dos-codigos-epsg-mais-utilizados-no-brasil/"
   ]
  },
  {
   "cell_type": "markdown",
   "metadata": {},
   "source": [
    "Checking the difference in the area calculated by geometry and from official data"
   ]
  },
  {
   "cell_type": "code",
   "execution_count": null,
   "metadata": {},
   "outputs": [],
   "source": [
    "diff=areas_geojson/areas_database\n",
    "diff=(diff-1)*100\n",
    "diff_pd=diff.to_frame()\n",
    "diff_pd=diff_pd.round(2)\n",
    "diff_pd.rename(columns={0:'Area diff'}, inplace=True)\n",
    "diff_pd=diff_pd.join(sp_cpl[['geometry','Nome']])\n",
    "diff_pd['A_diff str']=list(map(str, diff_pd['Area diff']))\n",
    "diff_gpd=gpd.GeoDataFrame(diff_pd, geometry='geometry')\n",
    "diff_gpd.crs=fiona.crs.from_epsg(4326)\n",
    "diff_gpd.head()"
   ]
  },
  {
   "cell_type": "code",
   "execution_count": null,
   "metadata": {},
   "outputs": [],
   "source": [
    "mpl.style.use('ggplot') # optional for changing style\n",
    "mybins=list(map(int,np.linspace(-16,16,num=17,endpoint=True)))\n",
    "plt.figure(figsize=(14,7))\n",
    "plt.hist(diff_pd['Area diff'], bins=mybins,rwidth=0.9)\n",
    "plt.xticks(mybins,mybins)\n",
    "plt.title('Difference in area calculation from GeoJson file and official data')\n",
    "plt.ylabel('# of Districts')\n",
    "plt.xlabel('% Difference in area')\n",
    "plt.show()"
   ]
  },
  {
   "cell_type": "markdown",
   "metadata": {},
   "source": [
    "Due to this difference, it was decided to not use the official density for further calculations. Further discussion and investigation on the area difference is carried out on section 4.6."
   ]
  },
  {
   "cell_type": "markdown",
   "metadata": {},
   "source": [
    "Therefore the calculation of the number of people living at walking distance from metro stations is carried out by getting the \"walking distance\" area around a metro station in a District divided by the District's area and multipling by its Population. The walking distance area here is considered a 1 km radius around the metro station."
   ]
  },
  {
   "cell_type": "code",
   "execution_count": null,
   "metadata": {},
   "outputs": [],
   "source": [
    "#function to create a circle area around a point\n",
    "proj_wgs84 = pyproj.Proj('+proj=longlat +datum=WGS84')\n",
    "\n",
    "def geodesic_point_buffer(lat, lon, km):\n",
    "    # Azimuthal equidistant projection\n",
    "    aeqd_proj = '+proj=aeqd +lat_0={lat} +lon_0={lon} +x_0=0 +y_0=0'\n",
    "    project = partial(\n",
    "        pyproj.transform,\n",
    "        pyproj.Proj(aeqd_proj.format(lat=lat, lon=lon)),\n",
    "        proj_wgs84)\n",
    "    buf = Point(0, 0).buffer(km * 1000)  # distance in metres\n",
    "    return transform(project, buf).exterior.coords[:]"
   ]
  },
  {
   "cell_type": "code",
   "execution_count": null,
   "metadata": {},
   "outputs": [],
   "source": [
    "walk_dist=1 #walking distance in km\n",
    "sp_metro_stat_poly=sp_metro_stat_gpd.copy()\n",
    "sp_metro_stat_poly.drop(columns=['Longitude','Latitude','geometry'],inplace=True)\n",
    "sp_metro_stat_poly['geometry']=Polygon()\n",
    "for k in range(sp_metro_stat_gpd.shape[0]):\n",
    "    b=geodesic_point_buffer(sp_metro_stat_gpd.loc[k,'Latitude'],sp_metro_stat_gpd.loc[k,'Longitude'],walk_dist)\n",
    "    sp_metro_stat_poly.loc[k,'geometry']=Polygon(b)\n",
    "sp_metro_stat_poly.head()"
   ]
  },
  {
   "cell_type": "markdown",
   "metadata": {},
   "source": [
    "Checking if the areas around the metro stations are consistent (pi*radius²)"
   ]
  },
  {
   "cell_type": "code",
   "execution_count": null,
   "metadata": {},
   "outputs": [],
   "source": [
    "areas_stations=sp_metro_stat_poly['geometry'].to_crs('EPSG:32723').map(lambda p: p.area / 1000000)\n",
    "areas_stations.describe()"
   ]
  },
  {
   "cell_type": "markdown",
   "metadata": {},
   "source": [
    "Joining all geometry areas around metro stations and intersecting the total area geometry with each district geometry"
   ]
  },
  {
   "cell_type": "code",
   "execution_count": null,
   "metadata": {},
   "outputs": [],
   "source": [
    "geometries = gpd.GeoSeries(sp_metro_stat_poly['geometry'])\n",
    "total_poly=geometries.unary_union\n",
    "intersec_metro=sp_cpl['geometry'].intersection(total_poly)\n",
    "intersec_metro=gpd.GeoDataFrame(intersec_metro)\n",
    "intersec_metro.rename(columns={0:'geometry'}, inplace=True)\n",
    "intersec_metro.head()"
   ]
  },
  {
   "cell_type": "markdown",
   "metadata": {},
   "source": [
    "Calculating the instersection areas and calculating the estimation of PLWDMS"
   ]
  },
  {
   "cell_type": "code",
   "execution_count": null,
   "metadata": {},
   "outputs": [],
   "source": [
    "areas_plwdms=intersec_metro['geometry'].to_crs('EPSG:32723').map(lambda p: p.area / 1000000)\n",
    "plwdms=sp_cpl['Population']*areas_plwdms/areas_geojson\n",
    "plwdms=round(plwdms,0)\n",
    "plwdms=list(map(int,plwdms))\n",
    "sp_cpl['PLWDMS']=plwdms\n",
    "sp_cpl['PLWDMS str']=list(map(str, sp_cpl['PLWDMS']))"
   ]
  },
  {
   "cell_type": "markdown",
   "metadata": {},
   "source": [
    "Calculating the total PLWDMS and city Pop. Density"
   ]
  },
  {
   "cell_type": "code",
   "execution_count": null,
   "metadata": {},
   "outputs": [],
   "source": [
    "total_plwdms=sp_cpl['PLWDMS'].sum()\n",
    "total_area_db=areas_database.sum()\n",
    "total_area_geo=areas_geojson.sum()\n",
    "total_dens_db=total_pop/total_area_db\n",
    "total_dens_geo=total_pop/total_area_geo\n",
    "print('The estimated total number of people living at walking distance from metro stations is',total_plwdms,'ppl.')\n",
    "print('The population density of the city (based on database area) is',int(total_dens_db),'ppl./km^2')\n",
    "print('The population density of the city (based on geojson area) is',int(total_dens_geo),'ppl./km^2')"
   ]
  },
  {
   "cell_type": "markdown",
   "metadata": {},
   "source": [
    "### 4.4 Creating the map layers and setting its properties "
   ]
  },
  {
   "cell_type": "markdown",
   "metadata": {},
   "source": [
    "Creating colorscales for the different layers on the map"
   ]
  },
  {
   "cell_type": "code",
   "execution_count": null,
   "metadata": {},
   "outputs": [],
   "source": [
    "# definition of the max value on the scale\n",
    "# using the first algarism and rounding it up ## for latter versions: create a function \"def\"\n",
    "\n",
    "ten_log=list(map(int,np.logspace(0,9,10)))\n",
    "\n",
    "ordem=0\n",
    "for i in range(10):\n",
    "    if sp_cpl['Population'].max()<ten_log[i]:\n",
    "        ordem=ten_log[i-1]\n",
    "        break\n",
    "first_alg=sp_cpl['Population'].max()//ordem+(sp_cpl['Population'].max()%ordem>0) #rounding up\n",
    "max_pop_scale=first_alg*ordem\n",
    "\n",
    "for i in range(10):\n",
    "    if sp_cpl['Density'].max()<ten_log[i]:\n",
    "        ordem=ten_log[i-1]\n",
    "        break\n",
    "first_alg=sp_cpl['Density'].max()//ordem+(sp_cpl['Density'].max()%ordem>0) #rounding up\n",
    "max_dens_scale=first_alg*ordem\n",
    "\n",
    "for i in range(10):\n",
    "    if sp_cpl['PLWDMS'].max()<ten_log[i]:\n",
    "        ordem=ten_log[i-1]\n",
    "        break\n",
    "first_alg=sp_cpl['PLWDMS'].max()//ordem+(sp_cpl['PLWDMS'].max()%ordem>0) #rounding up\n",
    "max_plwdms_scale=first_alg*ordem\n",
    "\n",
    "#creating colorscales\n",
    "colorscale_pop=folium.LinearColormap(['white','red'],vmin=0,vmax=max_pop_scale)\n",
    "colorscale_pop.caption='Population [ppl]'\n",
    "colorscale_dens=folium.LinearColormap(['white','purple'],vmin=0,vmax=max_dens_scale)\n",
    "colorscale_dens.caption='Pop. Density [ppl/km^2]'\n",
    "colorscale_mstat=folium.LinearColormap(['white','green'],vmin=0,vmax=sp_cpl['Metro stations'].max())\n",
    "colorscale_mstat.caption='Metro stations'\n",
    "colorscale_plwdms=folium.LinearColormap(['white','orange','#F85B14'],index=[0,max_plwdms_scale/2,max_plwdms_scale],vmin=0,vmax=max_plwdms_scale)\n",
    "colorscale_plwdms.caption='PLWDMS [ppl]'"
   ]
  },
  {
   "cell_type": "markdown",
   "metadata": {},
   "source": [
    "Creating the map layers"
   ]
  },
  {
   "cell_type": "code",
   "execution_count": null,
   "metadata": {},
   "outputs": [],
   "source": [
    "sp_map_lay=folium.Map(location=[-23.68, -46.45], zoom_start=10, tiles='CartoDB Positron', width=800, height=500)\n",
    "\n",
    "#layer for population\n",
    "sp_pop_map=folium.GeoJson(sp_cpl[['geometry','Nome','Population','Pop str']],\n",
    "               name=\"São Paulo Population\",\n",
    "               style_function=lambda x: {\"weight\":1, 'color':'white','fillColor':colorscale_pop(x['properties']['Population']), 'fillOpacity':0.7},\n",
    "              highlight_function=lambda x: {'weight':2, 'color':'red'},\n",
    "               #smooth_factor=2.0,\n",
    "              tooltip=folium.features.GeoJsonTooltip(fields=['Nome','Pop str'],\n",
    "                                              aliases=['District','Population'], \n",
    "                                              labels=True, \n",
    "                                              sticky=True,\n",
    "                                              toLocaleString=True\n",
    "                                             )\n",
    "                         )\n",
    "sp_pop_map.add_to(sp_map_lay)\n",
    "colorscale_pop.add_to(sp_map_lay)\n",
    "\n",
    "#Layer for population density\n",
    "sp_dens_map=folium.GeoJson(sp_cpl[['geometry','Nome','Density','Dens str']],\n",
    "               name=\"São Paulo Pop. Density\",\n",
    "               style_function=lambda x: {\"weight\":1, 'color':'white','fillColor':colorscale_dens(x['properties']['Density']), 'fillOpacity':0.7},\n",
    "              highlight_function=lambda x: {'weight':2, 'color':'purple'},\n",
    "               #smooth_factor=2.0,\n",
    "               show=False,\n",
    "              tooltip=folium.features.GeoJsonTooltip(fields=['Nome','Dens str'],\n",
    "                                              aliases=['District','Pop. Density'], \n",
    "                                              labels=True, \n",
    "                                              sticky=True,\n",
    "                                              toLocaleString=True\n",
    "                                             )\n",
    "              )\n",
    "sp_dens_map.add_to(sp_map_lay)\n",
    "colorscale_dens.add_to(sp_map_lay)\n",
    "\n",
    "#Layer for Metro stations\n",
    "sp_mstat_map=folium.GeoJson(sp_cpl[['geometry','Nome','Metro stations','M stat str']],\n",
    "               name=\"Metro Stations #\",\n",
    "               style_function=lambda x: {\"weight\":1, 'color':'white','fillColor':colorscale_mstat(x['properties']['Metro stations']), 'fillOpacity':0.7},\n",
    "              highlight_function=lambda x: {'weight':2, 'color':'green'},\n",
    "               #smooth_factor=2.0,\n",
    "               show=False,\n",
    "              tooltip=folium.features.GeoJsonTooltip(fields=['Nome','M stat str'],\n",
    "                                              aliases=['District','# of Metro stations'], \n",
    "                                              labels=True, \n",
    "                                              sticky=True,\n",
    "                                              toLocaleString=True\n",
    "                                             )\n",
    "              )\n",
    "sp_mstat_map.add_to(sp_map_lay)\n",
    "colorscale_mstat.add_to(sp_map_lay)\n",
    "\n",
    "#Layer for PLWDMS\n",
    "sp_plwdms_map=folium.GeoJson(sp_cpl[['geometry','Nome','PLWDMS','PLWDMS str']],\n",
    "               name=\"PLWDMS\",\n",
    "               style_function=lambda x: {\"weight\":1, 'color':'white','fillColor':colorscale_plwdms(x['properties']['PLWDMS']), 'fillOpacity':0.7},\n",
    "              highlight_function=lambda x: {'weight':2, 'color':'orange'},\n",
    "               #smooth_factor=2.0,\n",
    "               show=False,\n",
    "              tooltip=folium.features.GeoJsonTooltip(fields=['Nome','PLWDMS str'],\n",
    "                                              aliases=['District','PLWDMS'], \n",
    "                                              labels=True, \n",
    "                                              sticky=True,\n",
    "                                              toLocaleString=True\n",
    "                                             )\n",
    "              )\n",
    "sp_plwdms_map.add_to(sp_map_lay)\n",
    "colorscale_plwdms.add_to(sp_map_lay)"
   ]
  },
  {
   "cell_type": "markdown",
   "metadata": {},
   "source": [
    "Creating Metro Icon and Adding Markers to the stations"
   ]
  },
  {
   "cell_type": "code",
   "execution_count": null,
   "metadata": {},
   "outputs": [],
   "source": [
    "metro_png = os.path.abspath('../MyProjects/São_Paulo_Metro_logo.png')\n",
    "metro_marker=folium.FeatureGroup(name='Metro Station markers',show=False)\n",
    "\n",
    "for h in range(sp_metro_stat.shape[0]):\n",
    "    metro_icon = folium.CustomIcon(metro_png,icon_size=(15, 15)) #the custom icon has to reset each iteration (folium bug)\n",
    "    a=folium.Marker(\n",
    "        location=[sp_metro_stat.loc[h,'Latitude'],sp_metro_stat.loc[h,'Longitude']],\n",
    "        popup=sp_metro_stat.loc[h,'Station name'],\n",
    "        icon=metro_icon\n",
    "        )\n",
    "    metro_marker.add_child(a)\n",
    "\n",
    "metro_marker.add_to(sp_map_lay)"
   ]
  },
  {
   "cell_type": "markdown",
   "metadata": {},
   "source": [
    "Adding layer control, fullscreen and a secondary base layer"
   ]
  },
  {
   "cell_type": "code",
   "execution_count": null,
   "metadata": {},
   "outputs": [],
   "source": [
    "folium.TileLayer('openstreetmap').add_to(sp_map_lay)\n",
    "folium.plugins.Fullscreen(position='bottomright', title='Full Screen', title_cancel='Exit Full Screen', force_separate_button=False).add_to(sp_map_lay)\n",
    "folium.LayerControl('topright',autoZIndex=False, collapsed=True).add_to(sp_map_lay)"
   ]
  },
  {
   "cell_type": "markdown",
   "metadata": {},
   "source": [
    "Combining colorscales and layers for the controls"
   ]
  },
  {
   "cell_type": "code",
   "execution_count": null,
   "metadata": {},
   "outputs": [],
   "source": [
    "#creating a function to combine\n",
    "class BindColormap(MacroElement):\n",
    "    \"\"\"Binds a colormap to a given layer.\n",
    "\n",
    "    Parameters\n",
    "    ----------\n",
    "    colormap : branca.colormap.ColorMap\n",
    "        The colormap to bind.\n",
    "    \"\"\"\n",
    "    def __init__(self, layer, colormap):\n",
    "        super(BindColormap, self).__init__()\n",
    "        self.layer = layer\n",
    "        self.colormap = colormap\n",
    "        self._template = Template(u\"\"\"\n",
    "        {% macro script(this, kwargs) %}\n",
    "            {{this.colormap.get_name()}}.svg[0][0].style.display = 'block';\n",
    "            {{this._parent.get_name()}}.on('overlayadd', function (eventLayer) {\n",
    "                if (eventLayer.layer == {{this.layer.get_name()}}) {\n",
    "                    {{this.colormap.get_name()}}.svg[0][0].style.display = 'block';\n",
    "                }});\n",
    "            {{this._parent.get_name()}}.on('overlayremove', function (eventLayer) {\n",
    "                if (eventLayer.layer == {{this.layer.get_name()}}) {\n",
    "                    {{this.colormap.get_name()}}.svg[0][0].style.display = 'none';\n",
    "                }});\n",
    "        {% endmacro %}\n",
    "        \"\"\")\n",
    "\n",
    "#combining\n",
    "sp_map_lay.add_child(BindColormap(sp_mstat_map,colorscale_mstat))\n",
    "sp_map_lay.add_child(BindColormap(sp_pop_map,colorscale_pop))\n",
    "sp_map_lay.add_child(BindColormap(sp_dens_map,colorscale_dens))\n",
    "sp_map_lay.add_child(BindColormap(sp_plwdms_map,colorscale_plwdms))\n",
    "print('Layers and colorscales combined')"
   ]
  },
  {
   "cell_type": "markdown",
   "metadata": {},
   "source": [
    "### 4.5 Display map"
   ]
  },
  {
   "cell_type": "code",
   "execution_count": null,
   "metadata": {},
   "outputs": [],
   "source": [
    "sp_map_lay"
   ]
  },
  {
   "cell_type": "markdown",
   "metadata": {},
   "source": [
    "Save the map in html format if wanted"
   ]
  },
  {
   "cell_type": "code",
   "execution_count": null,
   "metadata": {},
   "outputs": [],
   "source": [
    "file_name='SP_map_0.1.1.html'\n",
    "sp_map_lay.save(file_name)"
   ]
  },
  {
   "cell_type": "markdown",
   "metadata": {},
   "source": [
    "## 4.6 Discussion on area difference"
   ]
  },
  {
   "cell_type": "markdown",
   "metadata": {},
   "source": [
    "In order to investigate the area difference between the GeoJson file and the database used for population and density, the % area difference was plot in a map."
   ]
  },
  {
   "cell_type": "code",
   "execution_count": null,
   "metadata": {},
   "outputs": [],
   "source": [
    "colorscale_adiff=folium.LinearColormap(['blue','white','red'],vmin=-16,vmax=16)\n",
    "colorscale_adiff.caption='Area difference [%]'"
   ]
  },
  {
   "cell_type": "code",
   "execution_count": null,
   "metadata": {},
   "outputs": [],
   "source": [
    "#Map for Area difference\n",
    "sp_map_diff=folium.Map(location=[-23.68, -46.45], zoom_start=10, tiles='CartoDB Positron', width=800, height=500)\n",
    "sp_adiff_map=folium.GeoJson(diff_gpd[['geometry','Nome','Area diff','A_diff str']],\n",
    "               name=\"Area difference\",\n",
    "               style_function=lambda x: {\"weight\":1, 'color':'white','fillColor':colorscale_adiff(x['properties']['Area diff']), 'fillOpacity':0.7},\n",
    "              highlight_function=lambda x: {'weight':2, 'color':'black'},\n",
    "               #smooth_factor=2.0,\n",
    "               show=False,\n",
    "              tooltip=folium.features.GeoJsonTooltip(fields=['Nome','A_diff str'],\n",
    "                                              aliases=['District','Area difference'], \n",
    "                                              labels=True, \n",
    "                                              sticky=True,\n",
    "                                              toLocaleString=True\n",
    "                                             )\n",
    "              )\n",
    "sp_adiff_map.add_to(sp_map_diff)\n",
    "colorscale_adiff.add_to(sp_map_diff)\n",
    "sp_map_diff"
   ]
  },
  {
   "cell_type": "markdown",
   "metadata": {},
   "source": [
    "There is no clear reason for the area difference by observing the map. Therefore other possibilities were check."
   ]
  },
  {
   "cell_type": "markdown",
   "metadata": {},
   "source": [
    "Checking if there is any relationship between the % area difference and the district area."
   ]
  },
  {
   "cell_type": "code",
   "execution_count": null,
   "metadata": {},
   "outputs": [],
   "source": [
    "area_pd=pd.DataFrame(areas_geojson)\n",
    "area_pd['Nome'] = sp_cpl['Nome']\n",
    "area_pd['Area diff'] = diff_pd['Area diff']\n",
    "area_pd.rename(columns={'geometry':'Area GJSON'}, inplace=True)\n",
    "area_pd['Area data'] = areas_database\n",
    "area_pd.head()"
   ]
  },
  {
   "cell_type": "code",
   "execution_count": null,
   "metadata": {},
   "outputs": [],
   "source": [
    "area_pd.plot(kind='scatter', x='Area GJSON', y='Area diff', figsize=(14, 7), color='darkblue')\n",
    "\n",
    "plt.title('Relationship between GEOJson area and Area difference')\n",
    "plt.xlabel('GeoJson Area')\n",
    "plt.ylabel('% Area difference')\n",
    "\n",
    "plt.show()"
   ]
  },
  {
   "cell_type": "markdown",
   "metadata": {},
   "source": [
    "There is no clear relationship between the % area difference and the district area."
   ]
  },
  {
   "cell_type": "markdown",
   "metadata": {},
   "source": [
    "Another possibility that can be tested is if Districts with complex geometries influences the area difference. To determine the District geometry complexity, the shape index is used. The shape index is a ratio between the perimeter of the District and the perimeter of a regular geometry (in this case a square) of the same area. Higher shape index means a distorted geometry compared to the regular one."
   ]
  },
  {
   "cell_type": "code",
   "execution_count": null,
   "metadata": {},
   "outputs": [],
   "source": [
    "perimeters=sp_cpl['geometry'].to_crs('EPSG:32723').map(lambda p: p.length / 1000)\n",
    "sqr_per=areas_geojson.map(lambda p: math.sqrt(p) * 4)\n",
    "shape_index=perimeters/sqr_per"
   ]
  },
  {
   "cell_type": "code",
   "execution_count": null,
   "metadata": {},
   "outputs": [],
   "source": [
    "shape_index = pd.DataFrame(shape_index)\n",
    "shape_index['Nome'] = sp_cpl['Nome']\n",
    "shape_index['Area diff'] = diff_pd['Area diff']\n",
    "shape_index.rename(columns={'geometry':'Shape index'}, inplace=True)\n",
    "shape_index.head()"
   ]
  },
  {
   "cell_type": "code",
   "execution_count": null,
   "metadata": {},
   "outputs": [],
   "source": [
    "shape_index.plot(kind='scatter', x='Shape index', y='Area diff', figsize=(14, 7), color='darkblue')\n",
    "\n",
    "plt.title('Relationship between District shape index and Area difference')\n",
    "plt.xlabel('Shape index')\n",
    "plt.ylabel('% Area difference')\n",
    "\n",
    "plt.show()"
   ]
  },
  {
   "cell_type": "markdown",
   "metadata": {},
   "source": [
    "There is no clear relationship between the shape index and the area difference. But just for curiosity let's see the shape index on a map."
   ]
  },
  {
   "cell_type": "code",
   "execution_count": null,
   "metadata": {},
   "outputs": [],
   "source": [
    "shape_index['geometry']=sp_cpl['geometry']\n",
    "shape_index['Shp_idx str']=list(map(str, shape_index['Shape index']))\n",
    "shp_idx_gpd=gpd.GeoDataFrame(shape_index, geometry='geometry')\n",
    "shp_idx_gpd.crs=fiona.crs.from_epsg(4326)\n",
    "shp_idx_gpd.head()"
   ]
  },
  {
   "cell_type": "code",
   "execution_count": null,
   "metadata": {},
   "outputs": [],
   "source": [
    "#Map for Shape index\n",
    "sp_map_shpidx=folium.Map(location=[-23.68, -46.45], zoom_start=10, tiles='CartoDB Positron', width=800, height=500)\n",
    "colorscale_shpidx=folium.LinearColormap(['blue','white','red'],index=[0.9,1,1.9],vmin=0.9,vmax=1.9)\n",
    "colorscale_shpidx.caption='Shape index'\n",
    "sp_shpidx_lay=folium.GeoJson(shp_idx_gpd[['geometry','Nome','Shape index','Shp_idx str']],\n",
    "               name=\"Shape index\",\n",
    "               style_function=lambda x: {\"weight\":1, 'color':'white','fillColor':colorscale_shpidx(x['properties']['Shape index']), 'fillOpacity':0.7},\n",
    "              highlight_function=lambda x: {'weight':2, 'color':'black'},\n",
    "               #smooth_factor=2.0,\n",
    "               show=True,\n",
    "              tooltip=folium.features.GeoJsonTooltip(fields=['Nome','Shp_idx str'],\n",
    "                                              aliases=['District','Shape index'], \n",
    "                                              labels=True, \n",
    "                                              sticky=True,\n",
    "                                              toLocaleString=True\n",
    "                                             )\n",
    "              )\n",
    "sp_shpidx_lay.add_to(sp_map_shpidx)\n",
    "colorscale_shpidx.add_to(sp_map_shpidx)\n",
    "sp_map_shpidx"
   ]
  },
  {
   "cell_type": "markdown",
   "metadata": {},
   "source": [
    "It is interesting to see that central Districits have lower shape indexes (more regular geometries) that the ones at the borders, porbably because the borders are usually defined by natural lines (e.g. rivers).\n",
    "Santo Amaro district has a shape index lower than 1. That can be explained by its regular geometry which is almost a regular square with a rounded corner (a circle has a lower shape index compared to a square)."
   ]
  },
  {
   "cell_type": "markdown",
   "metadata": {},
   "source": [
    "Another possibility to explain the area difference is a possible overlap between the districts. To check this the areas of each district will be summed and then a new geometry will be created by joining all districs geometries and the area of this total geometry will be calculated. If there is a difference between this two calculations, this means that some distritcs geometries are overlapped."
   ]
  },
  {
   "cell_type": "code",
   "execution_count": null,
   "metadata": {},
   "outputs": [],
   "source": [
    "areas_geojson.sum()"
   ]
  },
  {
   "cell_type": "code",
   "execution_count": null,
   "metadata": {},
   "outputs": [],
   "source": [
    "districts_geom=gpd.GeoSeries(sp_cpl['geometry'])\n",
    "sp_geom=districts_geom.unary_union\n",
    "sp_geom"
   ]
  },
  {
   "cell_type": "code",
   "execution_count": null,
   "metadata": {},
   "outputs": [],
   "source": [
    "sp_geom=gpd.GeoSeries(sp_geom)\n",
    "sp_geom.crs=fiona.crs.from_epsg(4326)\n",
    "total_area=sp_geom.to_crs('EPSG:32723').map(lambda p: p.area / 1000000)\n",
    "total_area"
   ]
  },
  {
   "cell_type": "markdown",
   "metadata": {},
   "source": [
    "There is no difference in area, therefore there is no significant overlap between district geometries."
   ]
  },
  {
   "cell_type": "markdown",
   "metadata": {},
   "source": [
    "Now, let's check the total area of São Paulo using the population and density database values and compare it with the geojson files."
   ]
  },
  {
   "cell_type": "code",
   "execution_count": null,
   "metadata": {},
   "outputs": [],
   "source": [
    "areas_database.sum()"
   ]
  },
  {
   "cell_type": "code",
   "execution_count": null,
   "metadata": {},
   "outputs": [],
   "source": [
    "total_diff=100*(areas_geojson.sum()/areas_database.sum()-1)"
   ]
  },
  {
   "cell_type": "code",
   "execution_count": null,
   "metadata": {},
   "outputs": [],
   "source": [
    "print('The total area difference is',round(total_diff,2),'%')"
   ]
  },
  {
   "cell_type": "markdown",
   "metadata": {},
   "source": [
    "Let's try to check a different source for the area. According to IBGE, the area of São Paulo city is 1521 km². The GeoJson file from IBGE source was then loaded and the area from this file was calculated using the same method used for the districts."
   ]
  },
  {
   "cell_type": "code",
   "execution_count": null,
   "metadata": {},
   "outputs": [],
   "source": [
    "sp_cities = gpd.read_file(\"../MyProjects/sp_cities.json\")\n",
    "sp_cities.head()"
   ]
  },
  {
   "cell_type": "code",
   "execution_count": null,
   "metadata": {},
   "outputs": [],
   "source": [
    "sp_cities.loc[lambda z: z['NM_MUN'] == 'São Paulo']"
   ]
  },
  {
   "cell_type": "code",
   "execution_count": null,
   "metadata": {},
   "outputs": [],
   "source": [
    "sp_cities.crs=fiona.crs.from_epsg(4326)\n",
    "sp_cities_areas=sp_cities['geometry'].to_crs('EPSG:32723').map(lambda p: p.area / 1000000)\n",
    "total_area_ibge=sp_cities_areas.iloc[562]"
   ]
  },
  {
   "cell_type": "code",
   "execution_count": null,
   "metadata": {},
   "outputs": [],
   "source": [
    "total_area_ibge"
   ]
  },
  {
   "cell_type": "markdown",
   "metadata": {},
   "source": [
    "The calculated area is the same as the official data from IBGE. This supports the usage of the area from the geojson file for the districts instead of the database used for population and density. The difference in area is probably due to a different measurement technique or different borders considered for the districts.\n",
    "Therefore the usage of the GeoJson file for the area calculation seems to be a beter choice for the present analysis."
   ]
  },
  {
   "cell_type": "markdown",
   "metadata": {},
   "source": [
    "## 6.0 Conclusions and Comments"
   ]
  },
  {
   "cell_type": "markdown",
   "metadata": {},
   "source": [
    "The maps provided a good visualization of demographic data of São Paulo city distributed over its districts together with the distribution of Metro stations and the estimation of the population living at walking distance from Metro stations (here called PLWDMS)."
   ]
  },
  {
   "cell_type": "markdown",
   "metadata": {},
   "source": [
    "Data has shown that Grajaú is the district with the higher population (360787 people) while Marsilac is the one with the lowest (8258 people). Marsilac also has the largest area (208.2 km²) and therefore the lowest population density (41 ppl/km²). Sé is the smallest district (2.2 km²) and Bela vista is the district with higher population density (26715 ppl/km²)"
   ]
  },
  {
   "cell_type": "code",
   "execution_count": null,
   "metadata": {},
   "outputs": [],
   "source": [
    "print(sp_cpl.loc[sp_cpl['Population'].idxmax(),'Nome'],'population is',sp_cpl['Population'].max())\n",
    "print(sp_cpl.loc[sp_cpl['Population'].idxmin(),'Nome'],'population is',sp_cpl['Population'].min())\n",
    "print(area_pd.loc[area_pd['Area GJSON'].idxmax(),'Nome'],'area is',round(area_pd['Area GJSON'].max(),1),'km^2')\n",
    "print(area_pd.loc[area_pd['Area GJSON'].idxmin(),'Nome'],'area is',round(area_pd['Area GJSON'].min(),1),'km^2')\n",
    "print(sp_cpl.loc[sp_cpl['Density'].idxmax(),'Nome'],'pop. density is',sp_cpl['Density'].max(),'ppl/km^2')\n",
    "print(sp_cpl.loc[sp_cpl['Density'].idxmin(),'Nome'],'pop. density is',sp_cpl['Density'].min(),'ppl/km^2')"
   ]
  },
  {
   "cell_type": "markdown",
   "metadata": {},
   "source": [
    "Two districts (Santo Amaro and Vila Mariana) have the higest number of Metro stations inside its boundaries. While 59 districts have none (which is 61.5% of the total number of districts)."
   ]
  },
  {
   "cell_type": "code",
   "execution_count": null,
   "metadata": {},
   "outputs": [],
   "source": [
    "sp_cpl.loc[sp_cpl['Metro stations']==sp_cpl['Metro stations'].max(),['Nome','Metro stations']]"
   ]
  },
  {
   "cell_type": "code",
   "execution_count": null,
   "metadata": {},
   "outputs": [],
   "source": [
    "sp_cpl.loc[sp_cpl['Metro stations']==sp_cpl['Metro stations'].min(),['Nome','Metro stations']]"
   ]
  },
  {
   "cell_type": "code",
   "execution_count": null,
   "metadata": {},
   "outputs": [],
   "source": [
    "z=sp_cpl.loc[sp_cpl['Metro stations']==sp_cpl['Metro stations'].min(),'Nome'].count()\n",
    "print('Number of districts without a Metro station: ',z)\n",
    "print('% of total districts: ',100*round(z/sp_cpl.shape[0],3),'%')"
   ]
  },
  {
   "cell_type": "code",
   "execution_count": null,
   "metadata": {},
   "outputs": [],
   "source": [
    "mybins=list(map(int,np.linspace(0,6,num=7,endpoint=True)))\n",
    "plt.figure(figsize=(8,4))\n",
    "plt.hist(sp_cpl['Metro stations'], bins=mybins,rwidth=0.9)\n",
    "plt.xticks(mybins,mybins)\n",
    "plt.title('Distribution of districts and their number of metro stations')\n",
    "plt.ylabel('# of Districts')\n",
    "plt.xlabel('# of Metro stations')\n",
    "plt.show()"
   ]
  },
  {
   "cell_type": "markdown",
   "metadata": {},
   "source": [
    "It is insteresting to see in the map that Campo Belo and Cambuci districts are surrounded by districts with metro stations but have none within their own boundaries."
   ]
  },
  {
   "cell_type": "markdown",
   "metadata": {},
   "source": [
    "The estimation of total PLWDMS over 2 million people (which represents 18.1% of the total population) seems to be rather over estimated. This is probably due to the method used for the calculation which considers the population density of the complete district while the area closer to the Metro stations might have considerably different population density.\n",
    "Metro stations can be located in a more commercial area of the district rather than an residencial area, also Metro stations that are the Terminal station of a line may have large parking areas for trains which will occupy much of the considered area.\n",
    "For a better estimation of PLWDMS, population data with higher spatial resolution than district areas would be necessary."
   ]
  },
  {
   "cell_type": "code",
   "execution_count": null,
   "metadata": {},
   "outputs": [],
   "source": [
    "perc_plwdms=total_plwdms/total_pop\n",
    "perc_plwdms"
   ]
  },
  {
   "cell_type": "markdown",
   "metadata": {},
   "source": [
    "Sapopemba is the district with higher PLWDMS (192909 ppl, which represents 9.4% of the total PLWDMS), that's because it has a high density and has 5 metro stations. The following calculation demonstrates that 2/3 of its area is covered by a 1km radius around metro stations. Lapa is the district with lowest PLWDMS (excluding the ones with 0 value) of only 52 people."
   ]
  },
  {
   "cell_type": "code",
   "execution_count": null,
   "metadata": {},
   "outputs": [],
   "source": [
    "print(sp_cpl.loc[sp_cpl['PLWDMS'].idxmax(),'Nome'],'PLWDMS is',sp_cpl['PLWDMS'].max(),'ppl')\n",
    "print('% of total PLWDMS: ',100*round(sp_cpl['PLWDMS'].max()/total_plwdms,3),'%')\n",
    "print(sp_cpl.loc[sp_cpl['PLWDMS'][sp_cpl['PLWDMS']>0].idxmin(),'Nome'],'PLWDMS is',sp_cpl['PLWDMS'][sp_cpl['PLWDMS']>0].min(),'ppl')"
   ]
  },
  {
   "cell_type": "code",
   "execution_count": null,
   "metadata": {},
   "outputs": [],
   "source": [
    "ratio=sp_cpl['PLWDMS'].loc[77]/sp_cpl['Population'].loc[77]\n",
    "ratio"
   ]
  },
  {
   "cell_type": "markdown",
   "metadata": {},
   "source": [
    "It is interesting to notice that Penha district has no metro station within its boundaries but has a PLWDMS number of 59119 people (the 11th largest). That's because 4 metro stations are located right next to its borders. The list of the top 15 is given below."
   ]
  },
  {
   "cell_type": "code",
   "execution_count": null,
   "metadata": {},
   "outputs": [],
   "source": [
    "print(sp_cpl.loc[sp_cpl['PLWDMS'][sp_cpl['Metro stations']==0].idxmax(),'Nome'],'PLWDMS is',sp_cpl['PLWDMS'][sp_cpl['Metro stations']==0].max(),'ppl')\n",
    "rank=sp_cpl[['Nome','PLWDMS']].sort_values(by='PLWDMS',ascending=False)\n",
    "rank.reset_index(drop=True,inplace=True)\n",
    "rank.head(15)"
   ]
  },
  {
   "cell_type": "markdown",
   "metadata": {},
   "source": [
    "There are actually 17 districts that have no metro stations within its borders but have PLWDMS higher than zero. The list of all these districts is shown below."
   ]
  },
  {
   "cell_type": "code",
   "execution_count": null,
   "metadata": {},
   "outputs": [],
   "source": [
    "a=sp_cpl[(sp_cpl['PLWDMS']>0) & (sp_cpl['Metro stations']==0)]"
   ]
  },
  {
   "cell_type": "code",
   "execution_count": null,
   "metadata": {},
   "outputs": [],
   "source": [
    "print('Districts with no metro stations and PLWDMS >0: ',a.shape[0])\n",
    "a[['Nome','PLWDMS']].sort_values(by='PLWDMS',ascending=False)"
   ]
  },
  {
   "cell_type": "markdown",
   "metadata": {},
   "source": [
    "The data used in this analysis is from the 2010 census, therefore, it can present significant difference from the actual status."
   ]
  },
  {
   "cell_type": "markdown",
   "metadata": {},
   "source": [
    "## 7.0 Next steps"
   ]
  },
  {
   "cell_type": "markdown",
   "metadata": {},
   "source": [
    "Improvements to be considered for better/further analysis: <br>\n",
    "-Use lattest census data (postponed to 2021 by IBGE due to the corona pandemic);<br>\n",
    "-Use the IBGE census regions (and respective population density) to determine the PLWDMS as they smaller than the districts, therefore providing a better spatial resolution for population densisty;<br>\n",
    "-Insert static legends on the map with the total number for each layer;<br>\n",
    "-Add CPTM stations to the map."
   ]
  },
  {
   "cell_type": "markdown",
   "metadata": {},
   "source": [
    "## 8.0 References"
   ]
  },
  {
   "cell_type": "markdown",
   "metadata": {},
   "source": [
    "Function to bind the colormap scale into the layer: https://nbviewer.jupyter.org/gist/BibMartin/f153aa957ddc5fadc64929abdee9ff2e <br>\n",
    "Function to draw a circle polygon around a geographic point: https://stackoverflow.com/questions/62899651/is-it-possible-to-azimuthal-equidistant-projection-and-create-a-buffer-polygon-i"
   ]
  }
 ],
 "metadata": {
  "kernelspec": {
   "display_name": "Python",
   "language": "python",
   "name": "conda-env-python-py"
  },
  "language_info": {
   "codemirror_mode": {
    "name": "ipython",
    "version": 3
   },
   "file_extension": ".py",
   "mimetype": "text/x-python",
   "name": "python",
   "nbconvert_exporter": "python",
   "pygments_lexer": "ipython3",
   "version": "3.6.11"
  }
 },
 "nbformat": 4,
 "nbformat_minor": 4
}
